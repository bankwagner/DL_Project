{
  "cells": [
    {
      "cell_type": "code",
      "execution_count": null,
      "metadata": {
        "id": "2UGa_NcgqT_C"
      },
      "outputs": [],
      "source": [
        "!pip install dicom2nifti --quiet\n",
        "!pip install nilearn --quiet\n",
        "!pip install -U segmentation_models --quiet"
      ]
    },
    {
      "cell_type": "code",
      "execution_count": null,
      "metadata": {
        "id": "kpP7H8Piwiei"
      },
      "outputs": [],
      "source": [
        "%%time\n",
        "%run download_dataset.py"
      ]
    },
    {
      "cell_type": "code",
      "execution_count": null,
      "metadata": {
        "colab": {
          "base_uri": "https://localhost:8080/"
        },
        "id": "4EwXsUXmp8u1",
        "outputId": "32a22f2f-0c1c-41ae-9f38-fb8623c5a04f"
      },
      "outputs": [],
      "source": [
        "%%time\n",
        "%run prep.py"
      ]
    },
    {
      "cell_type": "code",
      "execution_count": null,
      "metadata": {
        "colab": {
          "base_uri": "https://localhost:8080/"
        },
        "id": "vWGx0_1bueWi",
        "outputId": "902f1e30-9a58-4f88-ddbe-c46953ecd0d3"
      },
      "outputs": [],
      "source": [
        "import os\n",
        "\n",
        "def get_files_and_sizes(folder_path=\"/content\"):\n",
        "    files_and_sizes = []\n",
        "\n",
        "    try:\n",
        "        for entry in os.scandir(folder_path):\n",
        "            if entry.is_file() and \".py\" not in entry.name:\n",
        "                file_name = entry.name\n",
        "                file_size_mb = os.path.getsize(entry.path) / (1024 * 1024)\n",
        "                files_and_sizes.append((file_name, file_size_mb))\n",
        "    except FileNotFoundError:\n",
        "        print(f\"The specified folder '{folder_path}' does not exist.\")\n",
        "\n",
        "    return files_and_sizes\n",
        "\n",
        "folder_path = \"/content\"\n",
        "files_and_sizes = get_files_and_sizes(folder_path)\n",
        "\n",
        "for file_name, file_size_mb in files_and_sizes:\n",
        "    print(f\"File: {file_name}, Size: {file_size_mb:.2f} MB\")\n"
      ]
    },
    {
      "cell_type": "code",
      "execution_count": null,
      "metadata": {},
      "outputs": [],
      "source": [
        "%%time\n",
        "%run model_unet.py\n",
        "# if the first run fails, you have to delete the \"generic_utils\" from the file that makes the segmentatin_models import fail:\n",
        "# from this:  keras.utils.generic_utils.get_custom_objects().update(custom_objects)\n",
        "# to this:    keras.utils.get_custom_objects().update(custom_objects)\n",
        "# then: save the file + restart the runtime"
      ]
    },
    {
      "cell_type": "code",
      "execution_count": null,
      "metadata": {},
      "outputs": [],
      "source": [
        "import os\n",
        "from google.colab import files\n",
        "\n",
        "files_in_folder = os.listdir('/content')\n",
        "npz_files = [file for file in files_in_folder if file.endswith('.npz')]\n",
        "\n",
        "for npz_file in npz_files:\n",
        "    file_path = os.path.join('/content', npz_file)\n",
        "    files.download(file_path)\n"
      ]
    },
    {
      "cell_type": "code",
      "execution_count": null,
      "metadata": {},
      "outputs": [],
      "source": [
        "import os\n",
        "from google.colab import files\n",
        "import shutil\n",
        "\n",
        "files_in_folder = os.listdir('/content')\n",
        "npz_files = [file for file in files_in_folder if file.endswith('.npz')]\n",
        "\n",
        "zip_file_path = '/content/npz_files.zip'\n",
        "with shutil.ZipFile(zip_file_path, 'w') as zipf:\n",
        "    for npz_file in npz_files:\n",
        "        file_path = os.path.join('/content', npz_file)\n",
        "        zipf.write(file_path, os.path.basename(file_path))\n",
        "\n",
        "# Download the zip file\n",
        "files.download(zip_file_path)\n"
      ]
    }
  ],
  "metadata": {
    "accelerator": "GPU",
    "colab": {
      "gpuType": "T4",
      "provenance": []
    },
    "kernelspec": {
      "display_name": "Python 3",
      "name": "python3"
    },
    "language_info": {
      "name": "python"
    }
  },
  "nbformat": 4,
  "nbformat_minor": 0
}
