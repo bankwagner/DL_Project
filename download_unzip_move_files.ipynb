{
 "cells": [
  {
   "cell_type": "code",
   "execution_count": 10,
   "metadata": {},
   "outputs": [],
   "source": [
    "import requests\n",
    "import zipfile\n",
    "import os\n",
    "import shutil"
   ]
  },
  {
   "cell_type": "code",
   "execution_count": null,
   "metadata": {},
   "outputs": [],
   "source": [
    "# it takes ~15 mins to download\n",
    "url = \"https://humanheart-project.creatis.insa-lyon.fr/database/api/v1/collection/637218c173e9f0047faa00fb/download\"\n",
    "response = requests.get(url)\n",
    "\n",
    "if response.status_code == 200:\n",
    "    file_content = response.content\n",
    "    local_file_path = \"ACDC_temp.zip\"\n",
    "    \n",
    "    with open(local_file_path, \"wb\") as local_file:\n",
    "        local_file.write(file_content)\n",
    "    \n",
    "    print(\"File downloaded successfully.\")\n",
    "else:\n",
    "    print(\"Failed to download the file. Status code:\", response.status_code)"
   ]
  },
  {
   "cell_type": "code",
   "execution_count": 12,
   "metadata": {},
   "outputs": [
    {
     "name": "stdout",
     "output_type": "stream",
     "text": [
      "File unzipped successfully.\n"
     ]
    }
   ],
   "source": [
    "# it takes ~30s to unzip\n",
    "current_directory = os.getcwd()\n",
    "zip_file_path = f'{current_directory}/local_file_name.zip'\n",
    "extracted_dir = f'{current_directory}'\n",
    "\n",
    "with zipfile.ZipFile(zip_file_path, 'r') as zip_ref:\n",
    "    zip_ref.extractall(extracted_dir)\n",
    "\n",
    "print(\"File unzipped successfully.\")"
   ]
  },
  {
   "cell_type": "code",
   "execution_count": 24,
   "metadata": {},
   "outputs": [
    {
     "ename": "PermissionError",
     "evalue": "[WinError 5] A hozzáférés megtagadva: 'd:\\\\BME\\\\MSc\\\\dl-project\\\\test/ACDC/database/testing'",
     "output_type": "error",
     "traceback": [
      "\u001b[1;31m---------------------------------------------------------------------------\u001b[0m",
      "\u001b[1;31mPermissionError\u001b[0m                           Traceback (most recent call last)",
      "\u001b[1;32md:\\BME\\MSc\\dl-project\\0_test.ipynb Cell 5\u001b[0m line \u001b[0;36m1\n\u001b[0;32m      <a href='vscode-notebook-cell:/d%3A/BME/MSc/dl-project/0_test.ipynb#W3sZmlsZQ%3D%3D?line=4'>5</a>\u001b[0m \u001b[39m# # folders_to_move = [folder for folder in os.listdir(source_folder) if os.path.isdir(os.path.join(source_folder, folder))]\u001b[39;00m\n\u001b[0;32m      <a href='vscode-notebook-cell:/d%3A/BME/MSc/dl-project/0_test.ipynb#W3sZmlsZQ%3D%3D?line=5'>6</a>\u001b[0m \n\u001b[0;32m      <a href='vscode-notebook-cell:/d%3A/BME/MSc/dl-project/0_test.ipynb#W3sZmlsZQ%3D%3D?line=6'>7</a>\u001b[0m \u001b[39m# # for folder in folders_to_move:\u001b[39;00m\n\u001b[0;32m      <a href='vscode-notebook-cell:/d%3A/BME/MSc/dl-project/0_test.ipynb#W3sZmlsZQ%3D%3D?line=7'>8</a>\u001b[0m \u001b[39m# #     source_folder_path = os.path.join(source_folder, folder)\u001b[39;00m\n\u001b[0;32m      <a href='vscode-notebook-cell:/d%3A/BME/MSc/dl-project/0_test.ipynb#W3sZmlsZQ%3D%3D?line=8'>9</a>\u001b[0m \u001b[39m# #     destination_folder_path = os.path.join(destination_directory, folder)\u001b[39;00m\n\u001b[0;32m     <a href='vscode-notebook-cell:/d%3A/BME/MSc/dl-project/0_test.ipynb#W3sZmlsZQ%3D%3D?line=9'>10</a>\u001b[0m \u001b[39m# #     shutil.move(source_folder_path, destination_folder_path)\u001b[39;00m\n\u001b[0;32m     <a href='vscode-notebook-cell:/d%3A/BME/MSc/dl-project/0_test.ipynb#W3sZmlsZQ%3D%3D?line=11'>12</a>\u001b[0m os\u001b[39m.\u001b[39mchmod(source_folder, os\u001b[39m.\u001b[39mstat(source_folder)\u001b[39m.\u001b[39mst_mode \u001b[39m|\u001b[39m \u001b[39m0o200\u001b[39m)\n\u001b[1;32m---> <a href='vscode-notebook-cell:/d%3A/BME/MSc/dl-project/0_test.ipynb#W3sZmlsZQ%3D%3D?line=12'>13</a>\u001b[0m os\u001b[39m.\u001b[39;49mremove(\u001b[39mf\u001b[39;49m\u001b[39m'\u001b[39;49m\u001b[39m{\u001b[39;49;00mcurrent_directory\u001b[39m}\u001b[39;49;00m\u001b[39m/ACDC/database/testing\u001b[39;49m\u001b[39m'\u001b[39;49m)\n\u001b[0;32m     <a href='vscode-notebook-cell:/d%3A/BME/MSc/dl-project/0_test.ipynb#W3sZmlsZQ%3D%3D?line=15'>16</a>\u001b[0m source_folder \u001b[39m=\u001b[39m \u001b[39m\"\u001b[39m\u001b[39mACDC/database/training\u001b[39m\u001b[39m\"\u001b[39m\n\u001b[0;32m     <a href='vscode-notebook-cell:/d%3A/BME/MSc/dl-project/0_test.ipynb#W3sZmlsZQ%3D%3D?line=16'>17</a>\u001b[0m folders_to_move \u001b[39m=\u001b[39m [folder \u001b[39mfor\u001b[39;00m folder \u001b[39min\u001b[39;00m os\u001b[39m.\u001b[39mlistdir(source_folder) \u001b[39mif\u001b[39;00m os\u001b[39m.\u001b[39mpath\u001b[39m.\u001b[39misdir(os\u001b[39m.\u001b[39mpath\u001b[39m.\u001b[39mjoin(source_folder, folder))]\n",
      "\u001b[1;31mPermissionError\u001b[0m: [WinError 5] A hozzáférés megtagadva: 'd:\\\\BME\\\\MSc\\\\dl-project\\\\test/ACDC/database/testing'"
     ]
    }
   ],
   "source": [
    "os.remove(f'{current_directory}/ACDC/database/MANDATORY_CITATION.md')\n",
    "\n",
    "destination_directory = \"ACDC/database\"\n",
    "\n",
    "source_folder = \"ACDC/database/testing\"\n",
    "folders_to_move = [folder for folder in os.listdir(source_folder) if os.path.isdir(os.path.join(source_folder, folder))]\n",
    "\n",
    "for folder in folders_to_move:\n",
    "    source_folder_path = os.path.join(source_folder, folder)\n",
    "    destination_folder_path = os.path.join(destination_directory, folder)\n",
    "    shutil.move(source_folder_path, destination_folder_path)\n",
    "\n",
    "os.chmod(source_folder, os.stat(source_folder).st_mode | 0o200)\n",
    "# os.remove(f'{current_directory}/ACDC/database/testing')\n",
    "\n",
    "\n",
    "source_folder = \"ACDC/database/training\"\n",
    "folders_to_move = [folder for folder in os.listdir(source_folder) if os.path.isdir(os.path.join(source_folder, folder))]\n",
    "\n",
    "for folder in folders_to_move:\n",
    "    source_folder_path = os.path.join(source_folder, folder)\n",
    "    destination_folder_path = os.path.join(destination_directory, folder)\n",
    "    shutil.move(source_folder_path, destination_folder_path)\n",
    "\n",
    "os.chmod(source_folder, os.stat(source_folder).st_mode | 0o200)\n",
    "# os.remove(f'{current_directory}/ACDC/database/training')\n",
    "\n",
    "print(\"Patient folders moved successfully.\")\n"
   ]
  },
  {
   "cell_type": "code",
   "execution_count": null,
   "metadata": {},
   "outputs": [],
   "source": [
    "\n",
    "for foldername in os.listdir(os.path.abspath('./temp_data/ACDC/database/train')):\n",
    "    for filename in os.listdir(os.path.abspath(f'./temp_data/ACDC/database/train/{foldername}')):\n",
    "        print(os.path.abspath(f'./temp_data/ACDC/database/train/{foldername}/{filename}'))\n"
   ]
  },
  {
   "cell_type": "code",
   "execution_count": null,
   "metadata": {},
   "outputs": [],
   "source": [
    "import matplotlib as plt\n",
    "import nibabel as nib\n",
    "\n",
    "source_folder =         \"./temp_data/ACDC/database/test\" #train-re először\n",
    "destination_folder =    \"./temp_data/ACDC/\"\n",
    "\n",
    "\n",
    "for foldername in os.listdir(source_folder):\n",
    "    for filename in os.listdir(f'{source_folder}/{foldername}'):\n",
    "        print(os.path.abspath(f'{source_folder}/{foldername}/{filename}'))\n",
    "        if \".cfg\" not in filename and \"MANDATORY\" not in filename:\n",
    "            if \"_frame01.\" in filename:\n",
    "                plt.imshow(nib.load(os.path.abspath(f'{source_folder}/{foldername}/{filename}')).get_fdata()[:, :, 0], cmap='gray')\n",
    "                plt.axis('off')\n",
    "                plt.savefig(f'{destination_folder}/{foldername}_1.jpg', bbox_inches='tight', pad_inches=0)\n",
    "                plt.close()\n",
    "            elif \"_frame01_gt.\" in filename:\n",
    "                plt.imshow(nib.load(os.path.abspath(f'{source_folder}/{foldername}/{filename}')).get_fdata()[:, :, 0], cmap='gray')\n",
    "                plt.axis('off')\n",
    "                plt.savefig(f'{destination_folder}/{foldername}_gt_1.jpg', bbox_inches='tight', pad_inches=0)\n",
    "                plt.close()\n",
    "            elif \"_frame\" in filename and \"_gt\" not in filename:\n",
    "                plt.imshow(nib.load(os.path.abspath(f'{source_folder}/{foldername}/{filename}')).get_fdata()[:, :, 0], cmap='gray')\n",
    "                plt.axis('off')\n",
    "                plt.savefig(f'{destination_folder}/{foldername}_2.jpg', bbox_inches='tight', pad_inches=0)\n",
    "                plt.close()\n",
    "            elif \"_frame\" in filename and \"_gt\" in filename:\n",
    "                plt.imshow(nib.load(os.path.abspath(f'{source_folder}/{foldername}/{filename}')).get_fdata()[:, :, 0], cmap='gray')\n",
    "                plt.axis('off')\n",
    "                plt.savefig(f'{destination_folder}/{foldername}_gt_2.jpg', bbox_inches='tight', pad_inches=0)\n",
    "                plt.close()\n",
    "\n"
   ]
  },
  {
   "cell_type": "code",
   "execution_count": null,
   "metadata": {},
   "outputs": [],
   "source": [
    "for f in os.listdir(\"D:/BME/MSc/dl-project/temp_data/ACDC\"):\n",
    "    if \"_gt_\" in f:\n",
    "        shutil.move(f\"D:/BME/MSc/dl-project/temp_data/ACDC/{f}\", f\"D:/BME/MSc/dl-project/temp_data/ACDC/database/testannot/{f}\") #train-re először"
   ]
  }
 ],
 "metadata": {
  "kernelspec": {
   "display_name": "Python 3",
   "language": "python",
   "name": "python3"
  },
  "language_info": {
   "codemirror_mode": {
    "name": "ipython",
    "version": 3
   },
   "file_extension": ".py",
   "mimetype": "text/x-python",
   "name": "python",
   "nbconvert_exporter": "python",
   "pygments_lexer": "ipython3",
   "version": "3.10.4"
  }
 },
 "nbformat": 4,
 "nbformat_minor": 2
}
