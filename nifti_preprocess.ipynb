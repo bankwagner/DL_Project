{
 "cells": [
  {
   "cell_type": "markdown",
   "id": "2accb7bf",
   "metadata": {},
   "source": [
    "# A KÖNYVTÁRSZERKEZET VÁLTOZOTT \n",
    ".\n",
    "└── DL_Project/\n",
    "    ├── ACDC/\n",
    "    │   ├── training/\n",
    "    │   │   ├── patient001\n",
    "    │   │   └── ...\n",
    "    │   └── testing/\n",
    "    │       ├── patient101\n",
    "    │       └── ...\n",
    "    └── ACDC_Resize/\n",
    "        ├── training/\n",
    "        │   ├── images\n",
    "        │   ├── images_gt\n",
    "        │   └── images_4d\n",
    "        └── test/\n",
    "            ├── images\n",
    "            ├── images_gt\n",
    "            └── images_4d"
   ]
  },
  {
   "cell_type": "code",
   "execution_count": 1,
   "id": "6dc25a97-910e-42c5-a962-892cabba37cd",
   "metadata": {
    "id": "6dc25a97-910e-42c5-a962-892cabba37cd"
   },
   "outputs": [],
   "source": [
    "#!pip install nilearn\n",
    "#!pip install dicom2nifti\n",
    "\n",
    "import dicom2nifti\n",
    "import nibabel as nib\n",
    "import nilearn as nil\n",
    "import scipy.ndimage as ndi\n",
    "import matplotlib.pyplot as plt\n",
    "import os\n",
    "%matplotlib inline"
   ]
  },
  {
   "cell_type": "code",
   "execution_count": 2,
   "id": "15fb156f-0910-4c90-98f9-2ce0e0738293",
   "metadata": {
    "colab": {
     "base_uri": "https://localhost:8080/"
    },
    "id": "15fb156f-0910-4c90-98f9-2ce0e0738293",
    "outputId": "b5d895b2-4060-46ac-de32-b249ac56f3c1"
   },
   "outputs": [
    {
     "data": {
      "text/plain": [
       "['.git',\n",
       " '.gitignore',\n",
       " '.idea',\n",
       " '.ipynb_checkpoints',\n",
       " '.venv',\n",
       " 'ACDC',\n",
       " 'ACDC_Resize',\n",
       " 'DATA_LOAD_TEST',\n",
       " 'medreaders-master',\n",
       " 'nifti-Copy1.ipynb',\n",
       " 'nifti.ipynb',\n",
       " 'patient_001_4d_30sec (2)',\n",
       " 'patient_001_4d_30sec (2).zip',\n",
       " 'project.ipynb',\n",
       " 'README.md',\n",
       " 'Untitled.ipynb',\n",
       " 'Untitled1.ipynb',\n",
       " 'venv']"
      ]
     },
     "execution_count": 2,
     "metadata": {},
     "output_type": "execute_result"
    }
   ],
   "source": [
    "os.listdir('./')"
   ]
  },
  {
   "cell_type": "markdown",
   "id": "62f8edff-dc64-4536-8c4c-099131d3f74c",
   "metadata": {
    "id": "62f8edff-dc64-4536-8c4c-099131d3f74c"
   },
   "source": [
    "## Load NIfTI file\n",
    "\n",
    "We use `NiBabel` to read in the NIfTI file we just created:"
   ]
  },
  {
   "cell_type": "code",
   "execution_count": 3,
   "id": "56bac565-fa1d-4467-a1da-947fd9a37b08",
   "metadata": {
    "colab": {
     "base_uri": "https://localhost:8080/"
    },
    "id": "56bac565-fa1d-4467-a1da-947fd9a37b08",
    "outputId": "b57c63d4-d964-4083-e0a5-a30892283476"
   },
   "outputs": [
    {
     "data": {
      "text/plain": [
       "nibabel.nifti1.Nifti1Image"
      ]
     },
     "execution_count": 3,
     "metadata": {},
     "output_type": "execute_result"
    }
   ],
   "source": [
    "#cardiac_vol_4d = nib.load('patient001_4d.nii.gz')\n",
    "cardiac_vol1 = nib.load('ACDC/training/patient001/patient001_frame01.nii.gz')\n",
    "#http://127.0.0.1:8890/edit/DL_Project/ACDC/training/patient001/patient001_frame01.nii.gz\n",
    "cardiac_vol2 = nib.load('ACDC/training/patient001/patient001_frame01_gt.nii.gz')\n",
    "cardiac_vol3 = nib.load('ACDC/training/patient001/patient001_frame12.nii.gz')\n",
    "cardiac_vol4 = nib.load('ACDC/training/patient001/patient001_frame12_gt.nii.gz')\n",
    "\n",
    "# What is the type of this object?\n",
    "type(cardiac_vol1)"
   ]
  },
  {
   "cell_type": "markdown",
   "id": "39f82d91-ca0a-48fd-82d1-b162ad0bfee5",
   "metadata": {
    "id": "39f82d91-ca0a-48fd-82d1-b162ad0bfee5"
   },
   "source": [
    "## Access data in the NIfTI object\n",
    "\n",
    "NiBabel's handling of the NIfTI format data is not quite as elegant as what we saw in teh previous lesson. Rather than being able to access the data directly by referencing the name of the object (in this case, `cardiac_vol1`), we need to use the method `get_fdata()` to do this (the \"f\" in this method name stands for \"floating point\", as this is the type of data it returns). We will assign the result of this to a new variable so that it's easy to work with."
   ]
  },
  {
   "cell_type": "code",
   "execution_count": 55,
   "id": "3b26e91e-75e5-44a0-8e69-99112ed7d6df",
   "metadata": {
    "colab": {
     "base_uri": "https://localhost:8080/"
    },
    "id": "3b26e91e-75e5-44a0-8e69-99112ed7d6df",
    "outputId": "80d03a9a-efdb-4096-b952-862889d2c9de"
   },
   "outputs": [
    {
     "data": {
      "text/plain": [
       "numpy.ndarray"
      ]
     },
     "execution_count": 55,
     "metadata": {},
     "output_type": "execute_result"
    }
   ],
   "source": [
    "cardiac_vol_data = cardiac_vol1.get_fdata()\n",
    "type(cardiac_vol_data)\n"
   ]
  },
  {
   "cell_type": "code",
   "execution_count": 6,
   "id": "f471fc76",
   "metadata": {},
   "outputs": [],
   "source": [
    "\n",
    "import numpy as np\n",
    "import nibabel as nib\n",
    "import matplotlib.pyplot as plt\n",
    "import os.path\n",
    "    \n",
    "# későbbi tanítás érdekében külön gyűjtöm a képeket és a hozzá tartozó gt-t\n",
    "patient_vols_train =[]\n",
    "patient_vols_train_gt =[]\n",
    "patient_vols_test =[]\n",
    "patient_vols_test_gt =[]\n",
    "patient_vols_train_4d =[] # külön a 4d-s képek, kell ez nekünk ha nincs gt??\n",
    "patient_vols_test_4d =[] # külön a 4d-s képek, kell ez nekünk ha nincs gt??\n",
    "\n",
    "\n",
    "for i in range(1, 101):\n",
    "    for frame_num in range(1, 17): #hogyha az adatot kéne beolvasni, akkot kell a végükre még egy .\n",
    "        if os.path.isfile(f'ACDC/training/patient{101-i:03}/patient{101-i:03}_frame{frame_num:02}.nii.gz'):\n",
    "            patient_vols_train.append(nib.load(f'ACDC/training/patient{101-i:03}/patient{101-i:03}_frame{frame_num:02}.nii.gz'))\n",
    "        if os.path.isfile(f'ACDC/training/patient{101-i:03}/patient{101-i:03}_frame{frame_num:02}_gt.nii.gz'):\n",
    "            patient_vols_train_gt.append(nib.load(f'ACDC/training/patient{101-i:03}/patient{101-i:03}_frame{frame_num:02}_gt.nii.gz'))\n",
    "\n",
    "    if(os.path.isfile(f'ACDC/training/patient{101-i:03}/patient{101-i:03}_4d.nii.gz')):     \n",
    "        patient_vols_train_4d.append(nib.load(f'ACDC/training/patient{101-i:03}/patient{101-i:03}_4d.nii.gz'))\n",
    "    \n",
    "    \n",
    "for i in range(101, 151):\n",
    "    for frame_num in range(1, 17): #hogyha az adatot kéne beolvasni, akkot kell a végükre még egy .\n",
    "        if os.path.isfile(f'ACDC/testing/patient{i}/patient{i}_frame{frame_num:02}.nii.gz'):\n",
    "            patient_vols_test.append(nib.load(f'ACDC/testing/patient{i}/patient{i}_frame{frame_num:02}.nii.gz'))\n",
    "        if os.path.isfile(f'ACDC/testing/patient{i}/patient{i}_frame{frame_num:02}_gt.nii.gz'):\n",
    "            patient_vols_test_gt.append(nib.load(f'ACDC/testing/patient{i}/patient{i}_frame{frame_num:02}_gt.nii.gz'))\n",
    "\n",
    "    if(os.path.isfile(f'ACDC/testing/patient{i}/patient{i}_4d.nii.gz')):     \n",
    "        patient_vols_test_4d.append(nib.load(f'ACDC/testing/patient{i}/patient{i}_4d.nii.gz'))\n",
    "    "
   ]
  },
  {
   "cell_type": "code",
   "execution_count": 100,
   "id": "31dc1ba1",
   "metadata": {},
   "outputs": [
    {
     "data": {
      "text/plain": [
       "<nibabel.nifti1.Nifti1Image at 0x1c1910b3d50>"
      ]
     },
     "execution_count": 100,
     "metadata": {},
     "output_type": "execute_result"
    }
   ],
   "source": []
  },
  {
   "cell_type": "code",
   "execution_count": null,
   "id": "f20981eb",
   "metadata": {},
   "outputs": [],
   "source": [
    "# image dimensions statistics"
   ]
  },
  {
   "cell_type": "code",
   "execution_count": 10,
   "id": "ac5dda66",
   "metadata": {},
   "outputs": [
    {
     "name": "stdout",
     "output_type": "stream",
     "text": [
      "216\n",
      "256\n",
      "10\n"
     ]
    }
   ],
   "source": [
    "import statistics\n",
    "\n",
    "shape_x = []\n",
    "shape_y = []\n",
    "shape_z = []\n",
    "for i in range(1, len(patient_vols_train), 2):\n",
    "    shape = patient_vols_train[i].shape\n",
    "    shape_x.append(shape[0])\n",
    "    shape_y.append(shape[1])\n",
    "    shape_z.append(shape[2])\n",
    "    #print(shape_x,shape_y,shape_z)\n",
    "# most common values\n",
    "print(statistics.mode(shape_x)) #256\n",
    "print(statistics.mode(shape_y)) #216\n",
    "print(statistics.mode(shape_z)) #10\n",
    "\n",
    "    "
   ]
  },
  {
   "cell_type": "code",
   "execution_count": 11,
   "id": "7de7a653",
   "metadata": {},
   "outputs": [
    {
     "name": "stdout",
     "output_type": "stream",
     "text": [
      "216\n",
      "256\n",
      "10\n"
     ]
    }
   ],
   "source": [
    "shape_x = []\n",
    "shape_y = []\n",
    "shape_z = []\n",
    "for i in range(1, len(patient_vols_test), 2):\n",
    "    shape = patient_vols_test[i].shape\n",
    "    shape_x.append(shape[0])\n",
    "    shape_y.append(shape[1])\n",
    "    shape_z.append(shape[2])\n",
    "    #print(shape_x,shape_y,shape_z)\n",
    "# most common values\n",
    "print(statistics.mode(shape_x)) #256\n",
    "print(statistics.mode(shape_y)) #216\n",
    "print(statistics.mode(shape_z)) #10"
   ]
  },
  {
   "cell_type": "code",
   "execution_count": 12,
   "id": "e5e00c41",
   "metadata": {},
   "outputs": [
    {
     "name": "stdout",
     "output_type": "stream",
     "text": [
      "216\n",
      "256\n",
      "10\n",
      "30\n"
     ]
    }
   ],
   "source": [
    "import statistics\n",
    "\n",
    "shape_x = []\n",
    "shape_y = []\n",
    "shape_z = []\n",
    "shape_t = []\n",
    "for i in range(1, len(patient_vols_train_4d), 2):\n",
    "    shape = patient_vols_train_4d[i].shape\n",
    "    shape_x.append(shape[0])\n",
    "    shape_y.append(shape[1])\n",
    "    shape_z.append(shape[2])\n",
    "    shape_t.append(shape[3])\n",
    "    #print(shape_x,shape_y,shape_z)\n",
    "# most common values\n",
    "print(statistics.mode(shape_x)) #256\n",
    "print(statistics.mode(shape_y)) #216\n",
    "print(statistics.mode(shape_z)) #10\n",
    "print(statistics.mode(shape_t)) #30"
   ]
  },
  {
   "cell_type": "markdown",
   "id": "8bc39fab",
   "metadata": {},
   "source": [
    "# Resizing to 216* 256* 10\n",
    "    Bilinear Interpolation(order==1):\n",
    "Bilinear interpolation considers the four nearest neighbor pixels and computes the output pixel value as a weighted average of these neighbors.\n",
    "It produces smoother results than nearest-neighbor interpolation and is often a good choice for general image resizing tasks.\n",
    "\n",
    "(other order method--> increased computational cost)"
   ]
  },
  {
   "cell_type": "code",
   "execution_count": 13,
   "id": "6d0951f1",
   "metadata": {},
   "outputs": [],
   "source": [
    "import skimage.transform as skTrans\n",
    "\n",
    "patient_train_resized =[]\n",
    "patient_train_gt_resized =[]\n",
    "patient_train_4d_resized =[]\n",
    "patient_test_resized =[]\n",
    "patient_test_gt_resized =[]\n",
    "patient_test_4d_resized =[]\n",
    "\n"
   ]
  },
  {
   "cell_type": "code",
   "execution_count": 64,
   "id": "0f7b7929",
   "metadata": {},
   "outputs": [
    {
     "name": "stdout",
     "output_type": "stream",
     "text": [
      "200\n",
      "200\n",
      "100\n",
      "100\n",
      "100\n",
      "50\n"
     ]
    }
   ],
   "source": [
    "# max sizes\n",
    "print(len(patient_vols_train))\n",
    "print(len(patient_vols_train_gt))\n",
    "print(len(patient_vols_train_4d))\n",
    "print(len(patient_vols_test))\n",
    "print(len(patient_vols_test_gt))\n",
    "print(len(patient_vols_test_4d))\n",
    "\n"
   ]
  },
  {
   "cell_type": "code",
   "execution_count": 14,
   "id": "0f65366c",
   "metadata": {},
   "outputs": [],
   "source": [
    "for i in range(0,50):\n",
    "    patient_train_resized.append(skTrans.resize(patient_vols_train[i].get_fdata(), (216,256,10), order=1, preserve_range=False,anti_aliasing=True))\n",
    "    patient_train_gt_resized.append(skTrans.resize(patient_vols_train_gt[i].get_fdata(), (216,256,10), order=1, preserve_range=False,anti_aliasing=True))\n",
    "    patient_train_4d_resized.append(skTrans.resize(patient_vols_train_4d[i].get_fdata(), (216,256,10,30), order=1, preserve_range=False,anti_aliasing=True))\n",
    "    patient_test_resized.append(skTrans.resize(patient_vols_test[i].get_fdata(), (216,256,10), order=1, preserve_range=False,anti_aliasing=True))\n",
    "    patient_test_gt_resized.append(skTrans.resize(patient_vols_test_gt[i].get_fdata(), (216,256,10), order=1, preserve_range=False,anti_aliasing=True))\n",
    "    patient_test_4d_resized.append(skTrans.resize(patient_vols_test_4d[i].get_fdata(), (216,256,10,30), order=1, preserve_range=False,anti_aliasing=True))\n",
    " "
   ]
  },
  {
   "cell_type": "code",
   "execution_count": null,
   "id": "d2c472ab",
   "metadata": {},
   "outputs": [],
   "source": [
    "\n",
    "img_arr = patient_vols_train[55].get_fdata()\n",
    "img_arr = np.squeeze(img_arr)\n",
    "print(img_arr)\n",
    "np.save('test', img_arr)"
   ]
  },
  {
   "cell_type": "code",
   "execution_count": 164,
   "id": "a82bb17f",
   "metadata": {},
   "outputs": [
    {
     "data": {
      "text/plain": [
       "array([[7.9, 7.3, 7. , ..., 6. , 6. , 6. ],\n",
       "       [7.9, 7.3, 7. , ..., 6. , 6. , 6. ],\n",
       "       [7.9, 7.3, 7. , ..., 6. , 6. , 6. ],\n",
       "       ...,\n",
       "       [7.9, 7.3, 7. , ..., 6. , 6. , 6. ],\n",
       "       [7.9, 7.3, 7. , ..., 6. , 6. , 6. ],\n",
       "       [7.9, 7.3, 7. , ..., 6. , 6. , 6. ]])"
      ]
     },
     "execution_count": 164,
     "metadata": {},
     "output_type": "execute_result"
    }
   ],
   "source": [
    "type(patient_train_resized)"
   ]
  },
  {
   "cell_type": "code",
   "execution_count": 171,
   "id": "f7e9fb63",
   "metadata": {},
   "outputs": [
    {
     "data": {
      "text/plain": [
       "array([[8., 7., 7., ..., 6., 6., 6.],\n",
       "       [8., 7., 7., ..., 6., 6., 6.],\n",
       "       [8., 7., 7., ..., 6., 6., 6.],\n",
       "       ...,\n",
       "       [8., 7., 7., ..., 6., 6., 6.],\n",
       "       [8., 7., 7., ..., 6., 6., 6.],\n",
       "       [8., 7., 7., ..., 6., 6., 6.]])"
      ]
     },
     "execution_count": 171,
     "metadata": {},
     "output_type": "execute_result"
    }
   ],
   "source": [
    "patient_vols_train[0].get_fdata()[0]"
   ]
  },
  {
   "cell_type": "code",
   "execution_count": 174,
   "id": "7e87a992",
   "metadata": {},
   "outputs": [
    {
     "data": {
      "text/plain": [
       "list"
      ]
     },
     "execution_count": 174,
     "metadata": {},
     "output_type": "execute_result"
    }
   ],
   "source": [
    "type(patient_train_resized)"
   ]
  },
  {
   "cell_type": "code",
   "execution_count": 16,
   "id": "309180ca",
   "metadata": {},
   "outputs": [],
   "source": [
    "for i in range(50,100):\n",
    "    patient_train_resized.append(skTrans.resize(patient_vols_train[i].get_fdata(), (216,256,10), order=1, preserve_range=False,anti_aliasing=True))\n",
    "    patient_train_gt_resized.append(skTrans.resize(patient_vols_train_gt[i].get_fdata(), (216,256,10), order=1, preserve_range=False,anti_aliasing=True))\n",
    "    patient_train_4d_resized.append(skTrans.resize(patient_vols_train_4d[i].get_fdata(), (216,256,10,30), order=1, preserve_range=False,anti_aliasing=True))\n",
    "    patient_test_resized.append(skTrans.resize(patient_vols_test[i].get_fdata(), (216,256,10), order=1, preserve_range=False,anti_aliasing=True))\n",
    "    patient_test_gt_resized.append(skTrans.resize(patient_vols_test_gt[i].get_fdata(), (216,256,10), order=1, preserve_range=False,anti_aliasing=True))\n",
    "    "
   ]
  },
  {
   "cell_type": "code",
   "execution_count": 18,
   "id": "c8a32935",
   "metadata": {},
   "outputs": [],
   "source": [
    "for i in range(100,150):\n",
    "    patient_train_resized.append(skTrans.resize(patient_vols_train[i].get_fdata(), (216,256,10), order=1, preserve_range=False,anti_aliasing=True))\n",
    "    patient_train_gt_resized.append(skTrans.resize(patient_vols_train_gt[i].get_fdata(), (216,256,10), order=1, preserve_range=False,anti_aliasing=True))\n",
    "    \n"
   ]
  },
  {
   "cell_type": "code",
   "execution_count": 24,
   "id": "9c2e03a3",
   "metadata": {},
   "outputs": [],
   "source": [
    "for i in range(150,200):\n",
    "    patient_train_resized.append(skTrans.resize(patient_vols_train[i].get_fdata(), (216,256,10), order=1, preserve_range=False,anti_aliasing=True))\n",
    "    patient_train_gt_resized.append(skTrans.resize(patient_vols_train_gt[i].get_fdata(), (216,256,10), order=1, preserve_range=False,anti_aliasing=True))\n",
    "    \n"
   ]
  },
  {
   "cell_type": "code",
   "execution_count": 25,
   "id": "7e060bef",
   "metadata": {},
   "outputs": [
    {
     "name": "stdout",
     "output_type": "stream",
     "text": [
      "200\n",
      "200\n",
      "100\n",
      "100\n",
      "100\n",
      "50\n"
     ]
    }
   ],
   "source": [
    "print(len(patient_train_resized))\n",
    "print(len(patient_train_gt_resized))\n",
    "print(len(patient_train_4d_resized))\n",
    "print(len(patient_test_resized))\n",
    "print(len(patient_test_gt_resized))\n",
    "print(len(patient_test_4d_resized))"
   ]
  },
  {
   "cell_type": "code",
   "execution_count": 20,
   "id": "cdb1c0b6",
   "metadata": {},
   "outputs": [
    {
     "data": {
      "text/plain": [
       "list"
      ]
     },
     "execution_count": 20,
     "metadata": {},
     "output_type": "execute_result"
    }
   ],
   "source": [
    "type(patient_train_resized)"
   ]
  },
  {
   "cell_type": "code",
   "execution_count": 21,
   "id": "d36c9023",
   "metadata": {},
   "outputs": [
    {
     "data": {
      "text/plain": [
       "numpy.ndarray"
      ]
     },
     "execution_count": 21,
     "metadata": {},
     "output_type": "execute_result"
    }
   ],
   "source": [
    "type(patient_train_resized[0])\n",
    "\n"
   ]
  },
  {
   "cell_type": "code",
   "execution_count": 22,
   "id": "475667fc",
   "metadata": {},
   "outputs": [
    {
     "data": {
      "text/plain": [
       "(216, 256, 10)"
      ]
     },
     "execution_count": 22,
     "metadata": {},
     "output_type": "execute_result"
    }
   ],
   "source": [
    "patient_train_resized[3].shape"
   ]
  },
  {
   "cell_type": "markdown",
   "id": "5ef292ed",
   "metadata": {},
   "source": [
    "# save the numpy arrays \n",
    "# make folders: ACDC_Resize/training/images/\n",
    "                                                "
   ]
  },
  {
   "cell_type": "code",
   "execution_count": 61,
   "id": "ebaf96c4",
   "metadata": {},
   "outputs": [],
   "source": [
    "#parent_dir = 'test'## change only this"
   ]
  },
  {
   "cell_type": "code",
   "execution_count": 62,
   "id": "f5594f26",
   "metadata": {},
   "outputs": [],
   "source": [
    "directory_path_1 = 'ACDC_Resize'\n",
    "directory_path_2 = 'training'\n",
    "directory_path_3 = 'test'\n",
    "directory_path_4 = 'images'\n",
    "directory_path_5 = 'images_gt'\n",
    "directory_path_6 = 'images_4d'\n"
   ]
  },
  {
   "cell_type": "code",
   "execution_count": 63,
   "id": "b050afa4",
   "metadata": {},
   "outputs": [],
   "source": [
    "#path = os.path.join(parent_dir, directory_path_1) \n",
    "os.mkdir(directory_path_1)\n",
    "\n",
    "path_train = os.path.join(path, directory_path_2) \n",
    "os.mkdir(path_train)\n",
    "path_test = os.path.join(path, directory_path_3) \n",
    "os.mkdir(path_test)\n",
    "\n",
    "path_train_img = os.path.join(path_train, directory_path_4) \n",
    "os.mkdir(path_train_img)\n",
    "path_test_img = os.path.join(path_test, directory_path_4) \n",
    "os.mkdir(path_test_img)\n",
    "\n",
    "path_train_img = os.path.join(path_train, directory_path_5) \n",
    "os.mkdir(path_train_img)\n",
    "path_test_img = os.path.join(path_test, directory_path_5) \n",
    "os.mkdir(path_test_img)\n",
    "\n",
    "path_train_img = os.path.join(path_train, directory_path_6) \n",
    "os.mkdir(path_train_img)\n",
    "path_test_img = os.path.join(path_test, directory_path_6) \n",
    "os.mkdir(path_test_img)"
   ]
  },
  {
   "cell_type": "code",
   "execution_count": 26,
   "id": "101ee010",
   "metadata": {},
   "outputs": [],
   "source": [
    "for i in range(150,200):\n",
    "    np.save(f'ACDC_Resize/training/images/numpy_data_train_{i:03}.npy', patient_train_resized[i])\n",
    "    np.save(f'ACDC_Resize/training/images_gt/numpy_data_train_gt_{i:03}.npy', patient_train_gt_resized[i])"
   ]
  },
  {
   "cell_type": "markdown",
   "id": "db4f91b7",
   "metadata": {},
   "source": [
    "# ellenőrzés - ok"
   ]
  },
  {
   "cell_type": "code",
   "execution_count": 27,
   "id": "de1c18c2",
   "metadata": {},
   "outputs": [],
   "source": [
    "np_train = np.load('ACDC_Resize/training/images/numpy_data_train_001.npy')"
   ]
  },
  {
   "cell_type": "code",
   "execution_count": 28,
   "id": "3da12b9c",
   "metadata": {},
   "outputs": [
    {
     "data": {
      "text/plain": [
       "array([[[ 7.9     ,  7.3     ,  7.      , ...,  6.      ,  6.      ,\n",
       "          6.      ],\n",
       "        [ 7.9     ,  7.3     ,  7.      , ...,  6.      ,  6.      ,\n",
       "          6.      ],\n",
       "        [ 7.9     ,  7.3     ,  7.      , ...,  6.      ,  6.      ,\n",
       "          6.      ],\n",
       "        ...,\n",
       "        [ 7.9     ,  7.3     ,  7.      , ...,  6.      ,  6.      ,\n",
       "          6.      ],\n",
       "        [ 7.9     ,  7.3     ,  7.      , ...,  6.      ,  6.      ,\n",
       "          6.      ],\n",
       "        [ 7.9     ,  7.3     ,  7.      , ...,  6.      ,  6.      ,\n",
       "          6.      ]],\n",
       "\n",
       "       [[ 8.078125,  7.421875,  8.59375 , ...,  7.59375 ,  7.21875 ,\n",
       "          6.65625 ],\n",
       "        [10.109375,  9.078125, 24.5625  , ..., 22.578125, 18.775   ,\n",
       "         13.45    ],\n",
       "        [10.05625 , 10.01875 , 26.9375  , ..., 21.5     , 18.2     ,\n",
       "         14.6     ],\n",
       "        ...,\n",
       "        [11.84375 , 11.28125 ,  9.734375, ...,  8.03125 ,  8.34375 ,\n",
       "          8.90625 ],\n",
       "        [12.86875 , 11.14375 ,  9.5     , ...,  9.578125, 10.509375,\n",
       "          9.215625],\n",
       "        [12.69375 , 10.29375 ,  8.59375 , ...,  8.1875  ,  7.65625 ,\n",
       "          8.03125 ]],\n",
       "\n",
       "       [[ 8.003125,  7.459375,  8.640625, ...,  7.640625,  7.275   ,\n",
       "          6.825   ],\n",
       "        [ 9.196875,  8.690625, 24.640625, ..., 23.078125, 19.09375 ,\n",
       "         14.96875 ],\n",
       "        [ 9.278125,  7.759375, 25.703125, ..., 22.      , 18.45625 ,\n",
       "         15.49375 ],\n",
       "        ...,\n",
       "        [11.8625  , 10.6625  , 10.5     , ...,  9.03125 ,  9.125   ,\n",
       "          7.25    ],\n",
       "        [11.3625  , 10.1625  ,  9.421875, ...,  9.859375, 11.296875,\n",
       "         10.453125],\n",
       "        [10.25625 , 11.23125 , 11.71875 , ...,  9.546875,  9.28125 ,\n",
       "          9.28125 ]],\n",
       "\n",
       "       ...,\n",
       "\n",
       "       [[14.3875  , 14.4625  , 14.3125  , ..., 10.640625, 10.3875  ,\n",
       "         10.1625  ],\n",
       "        [75.13125 , 81.73125 , 82.328125, ..., 55.21875 , 53.334375,\n",
       "         49.753125],\n",
       "        [65.6     , 73.325   , 66.125   , ..., 54.96875 , 53.48125 ,\n",
       "         46.31875 ],\n",
       "        ...,\n",
       "        [ 8.8     ,  7.6     ,  7.5     , ...,  7.5     ,  6.840625,\n",
       "          6.521875],\n",
       "        [ 8.871875,  8.103125,  7.5     , ...,  6.78125 ,  6.196875,\n",
       "          6.028125],\n",
       "        [ 8.809375,  7.665625,  7.5     , ...,  6.953125,  6.634375,\n",
       "          6.090625]],\n",
       "\n",
       "       [[15.30625 , 14.70625 , 14.359375, ..., 10.546875, 10.21875 ,\n",
       "          9.65625 ],\n",
       "        [84.70625 , 86.13125 , 85.078125, ..., 55.34375 , 52.35    ,\n",
       "         45.675   ],\n",
       "        [76.240625, 82.559375, 77.671875, ..., 56.328125, 54.39375 ,\n",
       "         45.99375 ],\n",
       "        ...,\n",
       "        [ 9.321875,  8.440625,  8.234375, ...,  7.234375,  6.840625,\n",
       "          6.521875],\n",
       "        [ 8.828125,  7.796875,  7.28125 , ...,  6.640625,  6.4125  ,\n",
       "          6.675   ],\n",
       "        [ 9.70625 ,  8.50625 ,  7.90625 , ...,  6.953125,  6.934375,\n",
       "          6.990625]],\n",
       "\n",
       "       [[15.5875  , 14.9875  , 14.59375 , ..., 10.359375, 10.0875  ,\n",
       "          9.075   ],\n",
       "        [88.915625, 89.159375, 88.28125 , ..., 54.046875, 50.753125,\n",
       "         39.446875],\n",
       "        [84.61875 , 87.58125 , 85.71875 , ..., 57.296875, 54.73125 ,\n",
       "         43.25625 ],\n",
       "        ...,\n",
       "        [ 9.26875 ,  8.06875 ,  7.96875 , ...,  7.      ,  6.7     ,\n",
       "          6.1     ],\n",
       "        [ 8.8     ,  7.6     ,  7.5     , ...,  6.640625,  6.915625,\n",
       "          6.746875],\n",
       "        [ 7.984375,  7.328125,  7.046875, ...,  6.953125,  6.728125,\n",
       "          6.184375]]])"
      ]
     },
     "execution_count": 28,
     "metadata": {},
     "output_type": "execute_result"
    }
   ],
   "source": [
    "np_train"
   ]
  },
  {
   "cell_type": "code",
   "execution_count": 34,
   "id": "9dcf58dd",
   "metadata": {},
   "outputs": [
    {
     "name": "stdout",
     "output_type": "stream",
     "text": [
      "True\n"
     ]
    }
   ],
   "source": [
    "if (patient_train_resized[1].all()==np_train.all()):\n",
    "    print(True)"
   ]
  },
  {
   "cell_type": "code",
   "execution_count": 36,
   "id": "247d6095",
   "metadata": {},
   "outputs": [
    {
     "data": {
      "text/plain": [
       "array([[[0., 0., 0., ..., 0., 0., 0.],\n",
       "        [0., 0., 0., ..., 0., 0., 0.],\n",
       "        [0., 0., 0., ..., 0., 0., 0.],\n",
       "        ...,\n",
       "        [0., 0., 0., ..., 0., 0., 0.],\n",
       "        [0., 0., 0., ..., 0., 0., 0.],\n",
       "        [0., 0., 0., ..., 0., 0., 0.]],\n",
       "\n",
       "       [[0., 0., 0., ..., 0., 0., 0.],\n",
       "        [0., 0., 0., ..., 0., 0., 0.],\n",
       "        [0., 0., 0., ..., 0., 0., 0.],\n",
       "        ...,\n",
       "        [0., 0., 0., ..., 0., 0., 0.],\n",
       "        [0., 0., 0., ..., 0., 0., 0.],\n",
       "        [0., 0., 0., ..., 0., 0., 0.]],\n",
       "\n",
       "       [[0., 0., 0., ..., 0., 0., 0.],\n",
       "        [0., 0., 0., ..., 0., 0., 0.],\n",
       "        [0., 0., 0., ..., 0., 0., 0.],\n",
       "        ...,\n",
       "        [0., 0., 0., ..., 0., 0., 0.],\n",
       "        [0., 0., 0., ..., 0., 0., 0.],\n",
       "        [0., 0., 0., ..., 0., 0., 0.]],\n",
       "\n",
       "       ...,\n",
       "\n",
       "       [[0., 0., 0., ..., 0., 0., 0.],\n",
       "        [0., 0., 0., ..., 0., 0., 0.],\n",
       "        [0., 0., 0., ..., 0., 0., 0.],\n",
       "        ...,\n",
       "        [0., 0., 0., ..., 0., 0., 0.],\n",
       "        [0., 0., 0., ..., 0., 0., 0.],\n",
       "        [0., 0., 0., ..., 0., 0., 0.]],\n",
       "\n",
       "       [[0., 0., 0., ..., 0., 0., 0.],\n",
       "        [0., 0., 0., ..., 0., 0., 0.],\n",
       "        [0., 0., 0., ..., 0., 0., 0.],\n",
       "        ...,\n",
       "        [0., 0., 0., ..., 0., 0., 0.],\n",
       "        [0., 0., 0., ..., 0., 0., 0.],\n",
       "        [0., 0., 0., ..., 0., 0., 0.]],\n",
       "\n",
       "       [[0., 0., 0., ..., 0., 0., 0.],\n",
       "        [0., 0., 0., ..., 0., 0., 0.],\n",
       "        [0., 0., 0., ..., 0., 0., 0.],\n",
       "        ...,\n",
       "        [0., 0., 0., ..., 0., 0., 0.],\n",
       "        [0., 0., 0., ..., 0., 0., 0.],\n",
       "        [0., 0., 0., ..., 0., 0., 0.]]])"
      ]
     },
     "execution_count": 36,
     "metadata": {},
     "output_type": "execute_result"
    }
   ],
   "source": [
    "patient_test_gt_resized[0]"
   ]
  },
  {
   "cell_type": "code",
   "execution_count": 38,
   "id": "eea6e74d",
   "metadata": {},
   "outputs": [],
   "source": [
    "for i in range(0,100):\n",
    "    np.save(f'ACDC_Resize/test/images/numpy_data_test_{i:03}.npy', patient_test_resized[i])\n",
    "    np.save(f'ACDC_Resize/test/images_gt/numpy_data_test_gt_{i:03}.npy', patient_test_gt_resized[i])\n",
    "    np.save(f'ACDC_Resize/training/images_4d/numpy_data_training_4d_{i:03}.npy', patient_train_4d_resized[i])\n",
    "    "
   ]
  },
  {
   "cell_type": "code",
   "execution_count": 39,
   "id": "7cb4a7a1",
   "metadata": {},
   "outputs": [],
   "source": [
    "for i in range(0,50):\n",
    "    np.save(f'ACDC_Resize/test/images_4d/numpy_data_test_4d_{i:02}.npy', patient_test_4d_resized[i])"
   ]
  },
  {
   "cell_type": "code",
   "execution_count": null,
   "id": "58f90fd9",
   "metadata": {},
   "outputs": [],
   "source": []
  },
  {
   "cell_type": "code",
   "execution_count": null,
   "id": "0f72e395",
   "metadata": {},
   "outputs": [],
   "source": []
  }
 ],
 "metadata": {
  "colab": {
   "provenance": []
  },
  "kernelspec": {
   "display_name": "Python 3 (ipykernel)",
   "language": "python",
   "name": "python3"
  },
  "language_info": {
   "codemirror_mode": {
    "name": "ipython",
    "version": 3
   },
   "file_extension": ".py",
   "mimetype": "text/x-python",
   "name": "python",
   "nbconvert_exporter": "python",
   "pygments_lexer": "ipython3",
   "version": "3.11.5"
  }
 },
 "nbformat": 4,
 "nbformat_minor": 5
}
