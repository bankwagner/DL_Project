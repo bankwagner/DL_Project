{
 "cells": [
  {
   "cell_type": "code",
   "execution_count": 1,
   "metadata": {},
   "outputs": [],
   "source": [
    "import numpy as np\n",
    "import nibabel as nib\n",
    "import matplotlib.pyplot as plt\n",
    "import os.path"
   ]
  },
  {
   "cell_type": "code",
   "execution_count": 5,
   "metadata": {},
   "outputs": [
    {
     "data": {
      "text/plain": [
       "[<nibabel.nifti1.Nifti1Image at 0x2908b379f10>,\n",
       " <nibabel.nifti1.Nifti1Image at 0x2908b379ad0>,\n",
       " <nibabel.nifti1.Nifti1Image at 0x2908b378dd0>,\n",
       " <nibabel.nifti1.Nifti1Image at 0x2908b314a90>,\n",
       " <nibabel.nifti1.Nifti1Image at 0x2908b316d50>]"
      ]
     },
     "execution_count": 5,
     "metadata": {},
     "output_type": "execute_result"
    }
   ],
   "source": [
    "patient_vols_train =[] # fordított sorrendbe benne van az összes kép\n",
    "\n",
    "\n",
    "for i in range(1, 101):\n",
    "    imgs=[]\n",
    "    for frame_num in range(1, 17): #hogyha az adatot kéne beolvasni, akkot kell a végükre még egy .\n",
    "        if os.path.isfile(f'ACDC/ACDC/database/training/patient{101-i:03}/patient{101-i:03}_frame{frame_num:02}.nii.gz'):\n",
    "            imgs.append(nib.load(f'ACDC/ACDC/database/training/patient{101-i:03}/patient{101-i:03}_frame{frame_num:02}.nii.gz'))\n",
    "        if os.path.isfile(f'ACDC/ACDC/database/training/patient{101-i:03}/patient{101-i:03}_frame{frame_num:02}_gt.nii.gz'):\n",
    "            imgs.append(nib.load(f'ACDC/ACDC/database/training/patient{101-i:03}/patient{101-i:03}_frame{frame_num:02}_gt.nii.gz'))\n",
    "\n",
    "    if(os.path.isfile(f'ACDC/ACDC/database/training/patient{101-i:03}/patient{101-i:03}_4d.nii.gz')):     \n",
    "        imgs.append(nib.load(f'ACDC/ACDC/database/training/patient{101-i:03}/patient{101-i:03}_4d.nii.gz'))\n",
    "    patient_vols_train.append(imgs)\n",
    "\n"
   ]
  },
  {
   "cell_type": "code",
   "execution_count": null,
   "metadata": {},
   "outputs": [],
   "source": []
  },
  {
   "cell_type": "code",
   "execution_count": null,
   "metadata": {},
   "outputs": [],
   "source": []
  }
 ],
 "metadata": {
  "language_info": {
   "name": "python"
  },
  "orig_nbformat": 4
 },
 "nbformat": 4,
 "nbformat_minor": 2
}
